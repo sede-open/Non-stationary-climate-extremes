{
 "cells": [
  {
   "cell_type": "markdown",
   "metadata": {},
   "source": [
    "# Fitting a GEV Distribution to Annual Maxima Data"
   ]
  },
  {
   "cell_type": "code",
   "execution_count": null,
   "metadata": {},
   "outputs": [],
   "source": [
    "%load_ext autoreload\n",
    "%autoreload 2"
   ]
  },
  {
   "cell_type": "code",
   "execution_count": 12,
   "metadata": {},
   "outputs": [],
   "source": [
    "import os\n",
    "import sys\n",
    "import pandas as pd\n",
    "import numpy as np\n",
    "from scipy.stats import genextreme\n",
    "\n",
    "from gev_estimator import extreme_value_mcmc"
   ]
  },
  {
   "cell_type": "code",
   "execution_count": null,
   "metadata": {},
   "outputs": [],
   "source": [
    "# Load in the example data\n",
    "cs_annual_max_df = pd.read_parquet(\"../data/CS_annual_max.parquet\")\n",
    "cs_annual_max_df.head()"
   ]
  },
  {
   "cell_type": "code",
   "execution_count": 14,
   "metadata": {},
   "outputs": [],
   "source": [
    "# Select the raw data values for a specific gcm, variable, scenario and ensemble.\n",
    "data = cs_annual_max_df[(cs_annual_max_df['gcm'] == 'ACCESS-CM2') & (cs_annual_max_df['variable'] == 'tas') & (cs_annual_max_df['scenario'] == 'ssp585') & (cs_annual_max_df['ensemble'] == 'r1i1p1f1')].iloc[:, 7:]\n",
    "data = data.values.ravel()"
   ]
  },
  {
   "cell_type": "code",
   "execution_count": null,
   "metadata": {},
   "outputs": [],
   "source": [
    "# Initiate the mcmc\n",
    "gev_estimator = extreme_value_mcmc(data, non_stationary=True)"
   ]
  },
  {
   "cell_type": "code",
   "execution_count": null,
   "metadata": {},
   "outputs": [],
   "source": [
    "# Run the mcmc for 10000 samples and a thinning of 5, \n",
    "# resulting in 1000 samples from the predictive posterior distribution.\n",
    "n_samples = 10000\n",
    "n2plt = 5000\n",
    "burn_in = 1000\n",
    "thinning = 5\n",
    "beta = 0.05\n",
    "NGTSTR = 0.1\n",
    "\n",
    "samples, total_accepted, ar, parameter_medians = gev_estimator.run(n_samples, n2plt, burn_in, thinning, beta)"
   ]
  },
  {
   "cell_type": "code",
   "execution_count": null,
   "metadata": {},
   "outputs": [],
   "source": [
    "gev_estimator.plot_trace_plots(samples)"
   ]
  },
  {
   "cell_type": "code",
   "execution_count": null,
   "metadata": {},
   "outputs": [],
   "source": [
    "gev_estimator.plot_parameter_distributions(samples)"
   ]
  },
  {
   "cell_type": "code",
   "execution_count": null,
   "metadata": {},
   "outputs": [],
   "source": [
    "return_values = gev_estimator.plot_return_values(samples)"
   ]
  }
 ],
 "metadata": {
  "kernelspec": {
   "display_name": "philip_project",
   "language": "python",
   "name": "python3"
  },
  "language_info": {
   "codemirror_mode": {
    "name": "ipython",
    "version": 3
   },
   "file_extension": ".py",
   "mimetype": "text/x-python",
   "name": "python",
   "nbconvert_exporter": "python",
   "pygments_lexer": "ipython3",
   "version": "3.11.4"
  }
 },
 "nbformat": 4,
 "nbformat_minor": 2
}
